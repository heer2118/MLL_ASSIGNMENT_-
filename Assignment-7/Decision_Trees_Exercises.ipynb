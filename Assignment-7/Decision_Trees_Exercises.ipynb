{
  "cells": [
    {
      "cell_type": "markdown",
      "metadata": {
        "id": "K1U6_kudgfq-"
      },
      "source": [
        "# Decision Trees Exercises\n",
        "\n",
        "![DecisionTree.png](Assets/DecisionTree.png)"
      ]
    },
    {
      "cell_type": "code",
      "source": [
        "from google.colab import drive\n",
        "drive.mount('/content/drive')"
      ],
      "metadata": {
        "colab": {
          "base_uri": "https://localhost:8080/"
        },
        "id": "HXbOS2-bghZw",
        "outputId": "7ba1c742-3d8a-4c8a-aa21-15ef98e0bbc2"
      },
      "execution_count": 1,
      "outputs": [
        {
          "output_type": "stream",
          "name": "stdout",
          "text": [
            "Mounted at /content/drive\n"
          ]
        }
      ]
    },
    {
      "cell_type": "markdown",
      "metadata": {
        "id": "SZkX7QbbgfrB"
      },
      "source": [
        "# Learning Objectives\n",
        "\n",
        "- Recognize Decision trees and how to use them for classification problems\n",
        "- Recognize how to identify the best split and the factors for splitting\n",
        "- Explain strengths and weaknesses of decision trees\n",
        "- Explain how regression trees help with classifying continuous values\n",
        "- Describe motivation for choosing Random Forest Classifier over Decision Trees\n",
        "- Apply Intel® Extension for Scikit-learn* to leverage underlying compute capabilities of hardware for Random Forest Classifier\n",
        "\n",
        "# scikit-learn*\n",
        "\n",
        "Frameworks provide structure that Data Scientists use to build code. Frameworks are more than just libraries, because in addition to callable code, frameworks influence how code is written.\n",
        "\n",
        "A main virtue of using an optimized framework is that code runs faster. Code that runs faster is just generally more convenient but when we begin looking at applied data science and AI models, we can see more material benefits. Here you will see how optimization, particularly hyperparameter optimization can benefit more than just speed.\n",
        "\n",
        "These exercises will demonstrate how to apply **the Intel® Extension for Scikit-learn*,** a seamless way to speed up your Scikit-learn application. The acceleration is achieved through the use of the Intel® oneAPI Data Analytics Library (oneDAL). Patching is the term used to extend scikit-learn with Intel optimizations and makes it a well-suited machine learning framework for dealing with real-life problems.\n",
        "\n",
        "To get optimized versions of many Scikit-learn algorithms using a patch() approach consisting of adding these lines of code PRIOR to importing sklearn:\n",
        "\n",
        "- **from sklearnex import patch_sklearn**\n",
        "- **patch_sklearn()**\n",
        "\n",
        "## This exercise relies on installation of  Intel® Extension for Scikit-learn*\n",
        "\n",
        "If you have not already done so, follow the instructions from Week 1 for instructions"
      ]
    },
    {
      "cell_type": "markdown",
      "metadata": {
        "id": "GUDmnpvFgfrC"
      },
      "source": [
        "## Introduction\n",
        "\n",
        "We will be using the wine quality data set for these exercises. This data set contains various chemical properties of wine, such as acidity, sugar, pH, and alcohol. It also contains a quality metric (3-9, with highest being better) and a color (red or white). The name of the file is `Wine_Quality_Data.csv`."
      ]
    },
    {
      "cell_type": "code",
      "execution_count": null,
      "metadata": {
        "ExecuteTime": {
          "end_time": "2021-09-17T05:08:45.658270Z",
          "start_time": "2021-09-17T05:08:45.645483Z"
        },
        "id": "dbchEvVLgfrC"
      },
      "outputs": [],
      "source": [
        "from __future__ import print_function\n",
        "import os\n",
        "data_path = ['../data']\n",
        "\n",
        "# This listener will import Intel Extnsions for Scikit-learn optimized versions\n",
        "# for any applicable imports from scikit-learn once this patch has been run\n",
        "\n",
        "from sklearnex import patch_sklearn\n",
        "patch_sklearn()\n",
        "\n",
        "from io import StringIO\n",
        "from IPython.display import Image, display\n",
        "\n",
        "from sklearn.tree import export_graphviz\n",
        "from sklearn.model_selection import StratifiedShuffleSplit\n",
        "from sklearn.metrics import mean_squared_error\n",
        "from sklearn.tree import DecisionTreeRegressor\n",
        "from sklearn.model_selection import GridSearchCV\n",
        "from sklearn.metrics import accuracy_score, precision_score, recall_score, f1_score\n",
        "from sklearn.tree import DecisionTreeClassifier"
      ]
    },
    {
      "cell_type": "markdown",
      "metadata": {
        "id": "CKLkaQSCgfrD"
      },
      "source": [
        "## Question 1\n",
        "\n",
        "* Import the data and examine the features.\n",
        "* We will be using all of them to predict `color` (white or red), but the colors feature will need to be integer encoded."
      ]
    },
    {
      "cell_type": "code",
      "execution_count": 5,
      "metadata": {
        "colab": {
          "base_uri": "https://localhost:8080/"
        },
        "id": "We1EghfCgfrD",
        "outputId": "a12047f2-7052-4f16-a5d1-f8dff4af59c3"
      },
      "outputs": [
        {
          "output_type": "stream",
          "name": "stdout",
          "text": [
            "First few rows of the dataset:\n",
            "   fixed_acidity  volatile_acidity  citric_acid  residual_sugar  chlorides  \\\n",
            "0            7.4              0.70         0.00             1.9      0.076   \n",
            "1            7.8              0.88         0.00             2.6      0.098   \n",
            "2            7.8              0.76         0.04             2.3      0.092   \n",
            "3           11.2              0.28         0.56             1.9      0.075   \n",
            "4            7.4              0.70         0.00             1.9      0.076   \n",
            "\n",
            "   free_sulfur_dioxide  total_sulfur_dioxide  density    pH  sulphates  \\\n",
            "0                 11.0                  34.0   0.9978  3.51       0.56   \n",
            "1                 25.0                  67.0   0.9968  3.20       0.68   \n",
            "2                 15.0                  54.0   0.9970  3.26       0.65   \n",
            "3                 17.0                  60.0   0.9980  3.16       0.58   \n",
            "4                 11.0                  34.0   0.9978  3.51       0.56   \n",
            "\n",
            "   alcohol  quality color  \n",
            "0      9.4        5   red  \n",
            "1      9.8        5   red  \n",
            "2      9.8        5   red  \n",
            "3      9.8        6   red  \n",
            "4      9.4        5   red  \n",
            "\n",
            "Features in the dataset:\n",
            "Index(['fixed_acidity', 'volatile_acidity', 'citric_acid', 'residual_sugar',\n",
            "       'chlorides', 'free_sulfur_dioxide', 'total_sulfur_dioxide', 'density',\n",
            "       'pH', 'sulphates', 'alcohol', 'quality', 'color'],\n",
            "      dtype='object')\n",
            "\n",
            "Unique values in the 'color' column:\n",
            "['red' 'white']\n"
          ]
        }
      ],
      "source": [
        "import pandas as pd\n",
        "\n",
        "data = pd.read_csv(\"/content/drive/MyDrive/MLL/Wine_Quality_Data.csv\")\n",
        "\n",
        "print(\"First few rows of the dataset:\")\n",
        "print(data.head())\n",
        "\n",
        "print(\"\\nFeatures in the dataset:\")\n",
        "print(data.columns)\n",
        "\n",
        "\n",
        "print(\"\\nUnique values in the 'color' column:\")\n",
        "print(data['color'].unique())\n"
      ]
    },
    {
      "cell_type": "code",
      "source": [
        "from sklearn.preprocessing import LabelEncoder\n",
        "\n",
        "\n",
        "label_encoder = LabelEncoder()\n",
        "data['color'] = label_encoder.fit_transform(data['color'])\n",
        "\n",
        "print(\"\\nUnique encoded values in the 'color' column:\")\n",
        "print(data['color'].unique())\n"
      ],
      "metadata": {
        "colab": {
          "base_uri": "https://localhost:8080/"
        },
        "id": "cbMv8EuYhghP",
        "outputId": "0aa354d9-6f52-4542-e32a-fc114f93af30"
      },
      "execution_count": 6,
      "outputs": [
        {
          "output_type": "stream",
          "name": "stdout",
          "text": [
            "\n",
            "Unique encoded values in the 'color' column:\n",
            "[0 1]\n"
          ]
        }
      ]
    },
    {
      "cell_type": "markdown",
      "metadata": {
        "id": "cJkmCXhwgfrD"
      },
      "source": [
        "## Question 2\n",
        "\n",
        "* Use `StratifiedShuffleSplit` to split data into train and test sets that are stratified by wine quality. If possible, preserve the indices of the split for question 5 below.\n",
        "* Check the percent composition of each quality level for both the train and test data sets."
      ]
    },
    {
      "cell_type": "code",
      "execution_count": 7,
      "metadata": {
        "colab": {
          "base_uri": "https://localhost:8080/"
        },
        "id": "TifDuY0wgfrD",
        "outputId": "871b4333-a47e-49ec-c03e-3329b125a743"
      },
      "outputs": [
        {
          "output_type": "stream",
          "name": "stdout",
          "text": [
            "Train set:\n",
            "color\n",
            "1    75.389648\n",
            "0    24.610352\n",
            "Name: proportion, dtype: float64\n",
            "\n",
            "Test set:\n",
            "color\n",
            "1    75.384615\n",
            "0    24.615385\n",
            "Name: proportion, dtype: float64\n"
          ]
        }
      ],
      "source": [
        "from sklearn.model_selection import StratifiedShuffleSplit\n",
        "\n",
        "X = data.drop('color', axis=1)\n",
        "y = data['color']\n",
        "\n",
        "\n",
        "sss = StratifiedShuffleSplit(n_splits=1, test_size=0.2, random_state=42)\n",
        "\n",
        "\n",
        "for train_index, test_index in sss.split(X, y):\n",
        "    X_train, X_test = X.iloc[train_index], X.iloc[test_index]\n",
        "    y_train, y_test = y.iloc[train_index], y.iloc[test_index]\n",
        "\n",
        "\n",
        "print(\"Train set:\")\n",
        "print(y_train.value_counts(normalize=True) * 100)\n",
        "print(\"\\nTest set:\")\n",
        "print(y_test.value_counts(normalize=True) * 100)\n"
      ]
    },
    {
      "cell_type": "markdown",
      "metadata": {
        "id": "tPFCB2vCgfrD"
      },
      "source": [
        "## Question 3\n",
        "\n",
        "* Fit a decision tree classifier with no set limits on maximum depth, features, or leaves.\n",
        "* Determine how many nodes are present and what the depth of this (very large) tree is.\n",
        "* Using this tree, measure the prediction error in the train and test data sets. What do you think is going on here based on the differences in prediction error?"
      ]
    },
    {
      "cell_type": "code",
      "execution_count": 8,
      "metadata": {
        "colab": {
          "base_uri": "https://localhost:8080/"
        },
        "id": "IIjiwZpXgfrE",
        "outputId": "85420e9b-85ff-4fec-da73-365f4ca83616"
      },
      "outputs": [
        {
          "output_type": "stream",
          "name": "stdout",
          "text": [
            "Number of nodes: 151\n",
            "Depth of the tree: 20\n",
            "\n",
            "Prediction error on train data: 0.0\n",
            "Prediction error on test data: 0.007692307692307665\n"
          ]
        }
      ],
      "source": [
        "from sklearn.tree import DecisionTreeClassifier\n",
        "from sklearn.metrics import accuracy_score\n",
        "\n",
        "\n",
        "tree_classifier = DecisionTreeClassifier()\n",
        "\n",
        "\n",
        "tree_classifier.fit(X_train, y_train)\n",
        "\n",
        "\n",
        "num_nodes = tree_classifier.tree_.node_count\n",
        "depth = tree_classifier.tree_.max_depth\n",
        "print(\"Number of nodes:\", num_nodes)\n",
        "print(\"Depth of the tree:\", depth)\n",
        "\n",
        "\n",
        "train_predictions = tree_classifier.predict(X_train)\n",
        "test_predictions = tree_classifier.predict(X_test)\n",
        "\n",
        "\n",
        "train_error = 1 - accuracy_score(y_train, train_predictions)\n",
        "test_error = 1 - accuracy_score(y_test, test_predictions)\n",
        "\n",
        "print(\"\\nPrediction error on train data:\", train_error)\n",
        "print(\"Prediction error on test data:\", test_error)\n"
      ]
    },
    {
      "cell_type": "markdown",
      "metadata": {
        "id": "Y2vjhH71gfrE"
      },
      "source": [
        "## Question 4\n",
        "\n",
        "* Replace Decision Tree in the cell above with Random Forest algorithm\n",
        "* from sklearn.ensemble import RandomForestClassifier\n",
        "* patch sklearn to apply fast version from Intel Extensions for Sckit-learn*\n",
        "* Instantiate RandomForestClassifier(random_state=42)\n",
        "* Examine feature importance: dict(zip(X_train.columns, dt.feature_importances_))\n",
        "* Compare Metrics of Decision Tree to Random Forest"
      ]
    },
    {
      "cell_type": "code",
      "execution_count": 9,
      "metadata": {
        "colab": {
          "base_uri": "https://localhost:8080/"
        },
        "id": "PThXG2NugfrE",
        "outputId": "43c0d695-ac8a-49da-f99e-c545829d1ac4"
      },
      "outputs": [
        {
          "output_type": "stream",
          "name": "stdout",
          "text": [
            "Feature Importances:\n",
            "{'fixed_acidity': 0.038769752773148904, 'volatile_acidity': 0.14897272858039215, 'citric_acid': 0.01701144195412363, 'residual_sugar': 0.050355210756927934, 'chlorides': 0.2700738935800585, 'free_sulfur_dioxide': 0.061826839721621375, 'total_sulfur_dioxide': 0.27078931870910466, 'density': 0.05354587602650362, 'pH': 0.017022968092849124, 'sulphates': 0.05868230206730539, 'alcohol': 0.010018491463309277, 'quality': 0.0029311762746554826}\n",
            "\n",
            "Random Forest Metrics:\n",
            "Prediction error on train data: 0.0\n",
            "Prediction error on test data: 0.0038461538461538325\n"
          ]
        }
      ],
      "source": [
        "from sklearn.ensemble import RandomForestClassifier\n",
        "from sklearn.metrics import accuracy_score\n",
        "\n",
        "\n",
        "import sklearn\n",
        "sklearn.set_config(assume_finite=True)\n",
        "\n",
        "\n",
        "forest_classifier = RandomForestClassifier(random_state=42)\n",
        "\n",
        "\n",
        "forest_classifier.fit(X_train, y_train)\n",
        "\n",
        "\n",
        "feature_importances = dict(zip(X_train.columns, forest_classifier.feature_importances_))\n",
        "print(\"Feature Importances:\")\n",
        "print(feature_importances)\n",
        "\n",
        "\n",
        "train_predictions_rf = forest_classifier.predict(X_train)\n",
        "test_predictions_rf = forest_classifier.predict(X_test)\n",
        "\n",
        "train_error_rf = 1 - accuracy_score(y_train, train_predictions_rf)\n",
        "test_error_rf = 1 - accuracy_score(y_test, test_predictions_rf)\n",
        "\n",
        "print(\"\\nRandom Forest Metrics:\")\n",
        "print(\"Prediction error on train data:\", train_error_rf)\n",
        "print(\"Prediction error on test data:\", test_error_rf)\n",
        "\n",
        "\n"
      ]
    },
    {
      "cell_type": "markdown",
      "metadata": {
        "id": "nB-eyf6ngfrE"
      },
      "source": [
        "## Question 5\n",
        "\n",
        "* Using grid search with cross validation, find a decision tree that performs well on the test data set. Use a different variable name for this decision tree model than in question 3 so that both can be used in question 6.\n",
        "* Determine the number of nodes and the depth of this tree.\n",
        "* Measure the errors on the training and test sets as before and compare them to those from the tree in question 3."
      ]
    },
    {
      "cell_type": "code",
      "execution_count": 10,
      "metadata": {
        "colab": {
          "base_uri": "https://localhost:8080/"
        },
        "id": "f7a38MuSgfrE",
        "outputId": "5d27f687-070e-4e12-8846-be2ceba7a31c"
      },
      "outputs": [
        {
          "output_type": "stream",
          "name": "stdout",
          "text": [
            "Number of nodes in the best tree: 151\n",
            "Depth of the best tree: 20\n",
            "\n",
            "Best Decision Tree Metrics:\n",
            "Prediction error on train data: 0.0\n",
            "Prediction error on test data: 0.00846153846153841\n"
          ]
        }
      ],
      "source": [
        "from sklearn.model_selection import GridSearchCV\n",
        "\n",
        "\n",
        "param_grid = {\n",
        "    'max_depth': [None, 10, 20, 30, 40],\n",
        "    'min_samples_split': [2, 5, 10],\n",
        "    'min_samples_leaf': [1, 2, 4]\n",
        "}\n",
        "tree_classifier_grid = DecisionTreeClassifier(random_state=42)\n",
        "grid_search = GridSearchCV(tree_classifier_grid, param_grid, cv=5, scoring='accuracy', n_jobs=-1)\n",
        "grid_search.fit(X_train, y_train)\n",
        "best_tree_model = grid_search.best_estimator_\n",
        "\n",
        "num_nodes_best = best_tree_model.tree_.node_count\n",
        "depth_best = best_tree_model.tree_.max_depth\n",
        "print(\"Number of nodes in the best tree:\", num_nodes_best)\n",
        "print(\"Depth of the best tree:\", depth_best)\n",
        "train_predictions_best = best_tree_model.predict(X_train)\n",
        "test_predictions_best = best_tree_model.predict(X_test)\n",
        "train_error_best = 1 - accuracy_score(y_train, train_predictions_best)\n",
        "test_error_best = 1 - accuracy_score(y_test, test_predictions_best)\n",
        "\n",
        "print(\"\\nBest Decision Tree Metrics:\")\n",
        "print(\"Prediction error on train data:\", train_error_best)\n",
        "print(\"Prediction error on test data:\", test_error_best)\n"
      ]
    },
    {
      "cell_type": "markdown",
      "metadata": {
        "id": "sIY692NGgfrE"
      },
      "source": [
        "## Question 6\n",
        "\n",
        "* Re-split the data into `X` and `y` parts, this time with `residual_sugar` being the predicted (`y`) data. *Note:* if the indices were preserved from the `StratifiedShuffleSplit` output in question 2, they can be used again to split the data.\n",
        "* Using grid search with cross validation, find a decision tree **regression** model that performs well on the test data set.\n",
        "* Measure the errors on the training and test sets using mean squared error.\n",
        "* Make a plot of actual *vs* predicted residual sugar."
      ]
    },
    {
      "cell_type": "code",
      "source": [
        "from sklearn.model_selection import GridSearchCV, train_test_split\n",
        "from sklearn.tree import DecisionTreeRegressor\n",
        "from sklearn.metrics import mean_squared_error\n",
        "import matplotlib.pyplot as plt\n",
        "X_residual_sugar = data.drop('residual_sugar', axis=1)\n",
        "y_residual_sugar = data['residual_sugar']\n",
        "X_train_sugar, X_test_sugar = X_residual_sugar.iloc[train_index], X_residual_sugar.iloc[test_index]\n",
        "y_train_sugar, y_test_sugar = y_residual_sugar.iloc[train_index], y_residual_sugar.iloc[test_index]\n",
        "param_grid_regression = {\n",
        "    'max_depth': [None, 10, 20, 30, 40],\n",
        "    'min_samples_split': [2, 5, 10],\n",
        "    'min_samples_leaf': [1, 2, 4]\n",
        "}\n",
        "tree_regressor = DecisionTreeRegressor(random_state=42)\n",
        "grid_search_regression = GridSearchCV(tree_regressor, param_grid_regression, cv=5, scoring='neg_mean_squared_error', n_jobs=-1)\n",
        "grid_search_regression.fit(X_train_sugar, y_train_sugar)\n",
        "best_tree_model_regression = grid_search_regression.best_estimator_\n",
        "train_predictions_regression = best_tree_model_regression.predict(X_train_sugar)\n",
        "test_predictions_regression = best_tree_model_regression.predict(X_test_sugar)\n",
        "train_mse_regression = mean_squared_error(y_train_sugar, train_predictions_regression)\n",
        "test_mse_regression = mean_squared_error(y_test_sugar, test_predictions_regression)\n",
        "\n",
        "print(\"\\nBest Decision Tree Regression Metrics:\")\n",
        "print(\"Mean Squared Error on train data:\", train_mse_regression)\n",
        "print(\"Mean Squared Error on test data:\", test_mse_regression)\n",
        "plt.figure(figsize=(8, 6))\n",
        "plt.scatter(y_test_sugar, test_predictions_regression, color='blue', label='Predictions')\n",
        "plt.plot([min(y_test_sugar), max(y_test_sugar)], [min(y_test_sugar), max(y_test_sugar)], color='red', linestyle='--', label='Ideal Line')\n",
        "plt.title('Actual vs Predicted Residual Sugar (Decision Tree Regression)')\n",
        "plt.xlabel('Actual Residual Sugar')\n",
        "plt.ylabel('Predicted Residual Sugar')\n",
        "plt.legend()\n",
        "plt.show()\n"
      ],
      "metadata": {
        "colab": {
          "base_uri": "https://localhost:8080/",
          "height": 633
        },
        "id": "pFNOlKXeio_i",
        "outputId": "49755b54-d701-4ee0-c73e-dfbb2e3dad77"
      },
      "execution_count": 11,
      "outputs": [
        {
          "output_type": "stream",
          "name": "stdout",
          "text": [
            "\n",
            "Best Decision Tree Regression Metrics:\n",
            "Mean Squared Error on train data: 0.31836123928469123\n",
            "Mean Squared Error on test data: 2.600357367605267\n"
          ]
        },
        {
          "output_type": "display_data",
          "data": {
            "text/plain": [
              "<Figure size 800x600 with 1 Axes>"
            ],
            "image/png": "[encoded data removed]"
          },
          "metadata": {}
        }
      ]
    },
    {
      "cell_type": "markdown",
      "metadata": {
        "id": "mlbO8T1NgfrE"
      },
      "source": [
        "## Question 7 *(Optional)*\n",
        "\n",
        "This question is optional as it requires an additional command line program (GraphViz) and Python library (PyDotPlus). GraphViz can be installed with a package manager on Linux and Mac. For PyDotPlus, either `pip` or `conda` (`conda install -c conda-forge pydotplus`) can be used to install the library.\n",
        "\n",
        "Once these programs are installed:\n",
        "\n",
        "* Create a visualization of the decision tree from question 3, where wine color was predicted and the number of features and/or splits are not limited.\n",
        "* Create a visualization of the decision tree from question 4, where wine color was predicted but a grid search was used to find the optimal depth and number of features.\n",
        "\n",
        "The decision tree from question 5 will likely have too many nodes to visualize."
      ]
    },
    {
      "cell_type": "code",
      "execution_count": null,
      "metadata": {
        "id": "bv4OYiC7gfrE"
      },
      "outputs": [],
      "source": []
    }
  ],
  "metadata": {
    "kernelspec": {
      "display_name": "Python 3 (ipykernel)",
      "language": "python",
      "name": "python3"
    },
    "language_info": {
      "codemirror_mode": {
        "name": "ipython",
        "version": 3
      },
      "file_extension": ".py",
      "mimetype": "text/x-python",
      "name": "python",
      "nbconvert_exporter": "python",
      "pygments_lexer": "ipython3",
      "version": "3.11.5"
    },
    "colab": {
      "provenance": []
    }
  },
  "nbformat": 4,
  "nbformat_minor": 0
}